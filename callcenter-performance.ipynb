{
 "cells": [
  {
   "cell_type": "markdown",
   "metadata": {},
   "source": [
    "## Descripción del proyecto\n",
    "\n",
    "El servicio de telefonía virtual CallMeMaybe está desarrollando una nueva función que brindará a los supervisores y las supervisores información sobre los operadores menos eficaces. Se considera que un operador es ineficaz si tiene una gran cantidad de llamadas entrantes perdidas (internas y externas) y un tiempo de espera prolongado para las llamadas entrantes. Además, si se supone que un operador debe realizar llamadas salientes, un número reducido de ellas también será un signo de ineficacia.\n",
    "\n",
    "- Lleva a cabo el análisis exploratorio de datos\n",
    "- Identificar operadores ineficaces\n",
    "- Prueba las hipótesis estadísticas"
   ]
  },
  {
   "cell_type": "markdown",
   "metadata": {},
   "source": [
    "## Cargar datos"
   ]
  },
  {
   "cell_type": "code",
   "execution_count": 1,
   "metadata": {
    "trusted": true
   },
   "outputs": [],
   "source": [
    "import pandas as pd\n",
    "import numpy as np\n",
    "import matplotlib.pyplot as plt\n",
    "import seaborn as sns\n",
    "from scipy import stats"
   ]
  },
  {
   "cell_type": "code",
   "execution_count": 2,
   "metadata": {
    "trusted": true
   },
   "outputs": [],
   "source": [
    "# Cargar datasets\n",
    "Clients = pd.read_csv('/datasets/telecom_clients_us.csv')\n",
    "\n",
    "Calls = pd.read_csv('/datasets/telecom_dataset_us.csv')"
   ]
  },
  {
   "cell_type": "markdown",
   "metadata": {},
   "source": [
    "## Mostrar DataFrames"
   ]
  },
  {
   "cell_type": "code",
   "execution_count": 3,
   "metadata": {
    "trusted": true
   },
   "outputs": [
    {
     "data": {
      "text/plain": [
       "'Datos llamadas:'"
      ]
     },
     "metadata": {},
     "output_type": "display_data"
    },
    {
     "data": {
      "text/html": [
       "<div>\n",
       "<style scoped>\n",
       "    .dataframe tbody tr th:only-of-type {\n",
       "        vertical-align: middle;\n",
       "    }\n",
       "\n",
       "    .dataframe tbody tr th {\n",
       "        vertical-align: top;\n",
       "    }\n",
       "\n",
       "    .dataframe thead th {\n",
       "        text-align: right;\n",
       "    }\n",
       "</style>\n",
       "<table border=\"1\" class=\"dataframe\">\n",
       "  <thead>\n",
       "    <tr style=\"text-align: right;\">\n",
       "      <th></th>\n",
       "      <th>user_id</th>\n",
       "      <th>date</th>\n",
       "      <th>direction</th>\n",
       "      <th>internal</th>\n",
       "      <th>operator_id</th>\n",
       "      <th>is_missed_call</th>\n",
       "      <th>calls_count</th>\n",
       "      <th>call_duration</th>\n",
       "      <th>total_call_duration</th>\n",
       "    </tr>\n",
       "  </thead>\n",
       "  <tbody>\n",
       "    <tr>\n",
       "      <th>0</th>\n",
       "      <td>166377</td>\n",
       "      <td>2019-08-04 00:00:00+03:00</td>\n",
       "      <td>in</td>\n",
       "      <td>False</td>\n",
       "      <td>NaN</td>\n",
       "      <td>True</td>\n",
       "      <td>2</td>\n",
       "      <td>0</td>\n",
       "      <td>4</td>\n",
       "    </tr>\n",
       "    <tr>\n",
       "      <th>1</th>\n",
       "      <td>166377</td>\n",
       "      <td>2019-08-05 00:00:00+03:00</td>\n",
       "      <td>out</td>\n",
       "      <td>True</td>\n",
       "      <td>880022.0</td>\n",
       "      <td>True</td>\n",
       "      <td>3</td>\n",
       "      <td>0</td>\n",
       "      <td>5</td>\n",
       "    </tr>\n",
       "    <tr>\n",
       "      <th>2</th>\n",
       "      <td>166377</td>\n",
       "      <td>2019-08-05 00:00:00+03:00</td>\n",
       "      <td>out</td>\n",
       "      <td>True</td>\n",
       "      <td>880020.0</td>\n",
       "      <td>True</td>\n",
       "      <td>1</td>\n",
       "      <td>0</td>\n",
       "      <td>1</td>\n",
       "    </tr>\n",
       "    <tr>\n",
       "      <th>3</th>\n",
       "      <td>166377</td>\n",
       "      <td>2019-08-05 00:00:00+03:00</td>\n",
       "      <td>out</td>\n",
       "      <td>True</td>\n",
       "      <td>880020.0</td>\n",
       "      <td>False</td>\n",
       "      <td>1</td>\n",
       "      <td>10</td>\n",
       "      <td>18</td>\n",
       "    </tr>\n",
       "    <tr>\n",
       "      <th>4</th>\n",
       "      <td>166377</td>\n",
       "      <td>2019-08-05 00:00:00+03:00</td>\n",
       "      <td>out</td>\n",
       "      <td>False</td>\n",
       "      <td>880022.0</td>\n",
       "      <td>True</td>\n",
       "      <td>3</td>\n",
       "      <td>0</td>\n",
       "      <td>25</td>\n",
       "    </tr>\n",
       "  </tbody>\n",
       "</table>\n",
       "</div>"
      ],
      "text/plain": [
       "   user_id                       date direction internal  operator_id  \\\n",
       "0   166377  2019-08-04 00:00:00+03:00        in    False          NaN   \n",
       "1   166377  2019-08-05 00:00:00+03:00       out     True     880022.0   \n",
       "2   166377  2019-08-05 00:00:00+03:00       out     True     880020.0   \n",
       "3   166377  2019-08-05 00:00:00+03:00       out     True     880020.0   \n",
       "4   166377  2019-08-05 00:00:00+03:00       out    False     880022.0   \n",
       "\n",
       "   is_missed_call  calls_count  call_duration  total_call_duration  \n",
       "0            True            2              0                    4  \n",
       "1            True            3              0                    5  \n",
       "2            True            1              0                    1  \n",
       "3           False            1             10                   18  \n",
       "4            True            3              0                   25  "
      ]
     },
     "metadata": {},
     "output_type": "display_data"
    },
    {
     "data": {
      "text/plain": [
       "'Datos clientes:'"
      ]
     },
     "metadata": {},
     "output_type": "display_data"
    },
    {
     "data": {
      "text/html": [
       "<div>\n",
       "<style scoped>\n",
       "    .dataframe tbody tr th:only-of-type {\n",
       "        vertical-align: middle;\n",
       "    }\n",
       "\n",
       "    .dataframe tbody tr th {\n",
       "        vertical-align: top;\n",
       "    }\n",
       "\n",
       "    .dataframe thead th {\n",
       "        text-align: right;\n",
       "    }\n",
       "</style>\n",
       "<table border=\"1\" class=\"dataframe\">\n",
       "  <thead>\n",
       "    <tr style=\"text-align: right;\">\n",
       "      <th></th>\n",
       "      <th>user_id</th>\n",
       "      <th>tariff_plan</th>\n",
       "      <th>date_start</th>\n",
       "    </tr>\n",
       "  </thead>\n",
       "  <tbody>\n",
       "    <tr>\n",
       "      <th>0</th>\n",
       "      <td>166713</td>\n",
       "      <td>A</td>\n",
       "      <td>2019-08-15</td>\n",
       "    </tr>\n",
       "    <tr>\n",
       "      <th>1</th>\n",
       "      <td>166901</td>\n",
       "      <td>A</td>\n",
       "      <td>2019-08-23</td>\n",
       "    </tr>\n",
       "    <tr>\n",
       "      <th>2</th>\n",
       "      <td>168527</td>\n",
       "      <td>A</td>\n",
       "      <td>2019-10-29</td>\n",
       "    </tr>\n",
       "    <tr>\n",
       "      <th>3</th>\n",
       "      <td>167097</td>\n",
       "      <td>A</td>\n",
       "      <td>2019-09-01</td>\n",
       "    </tr>\n",
       "    <tr>\n",
       "      <th>4</th>\n",
       "      <td>168193</td>\n",
       "      <td>A</td>\n",
       "      <td>2019-10-16</td>\n",
       "    </tr>\n",
       "  </tbody>\n",
       "</table>\n",
       "</div>"
      ],
      "text/plain": [
       "   user_id tariff_plan  date_start\n",
       "0   166713           A  2019-08-15\n",
       "1   166901           A  2019-08-23\n",
       "2   168527           A  2019-10-29\n",
       "3   167097           A  2019-09-01\n",
       "4   168193           A  2019-10-16"
      ]
     },
     "metadata": {},
     "output_type": "display_data"
    }
   ],
   "source": [
    "display('Datos llamadas:')\n",
    "display(Calls.head())\n",
    "display(\"Datos clientes:\")\n",
    "display(Clients.head())"
   ]
  },
  {
   "cell_type": "markdown",
   "metadata": {},
   "source": [
    "El DataFrame **Calls** contiene datos sobre el trafico de las llamadas en el callcenter CallMeMaybe y se conforma de 9 columnas."
   ]
  },
  {
   "cell_type": "markdown",
   "metadata": {},
   "source": [
    "El DataFrame **Clients** contiene datos sobre los clientes que realizan llamadas al callcenter CallMeMaybe y se conforma de 3 columnas."
   ]
  },
  {
   "cell_type": "code",
   "execution_count": 4,
   "metadata": {
    "trusted": true
   },
   "outputs": [
    {
     "name": "stdout",
     "output_type": "stream",
     "text": [
      "<class 'pandas.core.frame.DataFrame'>\n",
      "RangeIndex: 53902 entries, 0 to 53901\n",
      "Data columns (total 9 columns):\n",
      " #   Column               Non-Null Count  Dtype  \n",
      "---  ------               --------------  -----  \n",
      " 0   user_id              53902 non-null  int64  \n",
      " 1   date                 53902 non-null  object \n",
      " 2   direction            53902 non-null  object \n",
      " 3   internal             53785 non-null  object \n",
      " 4   operator_id          45730 non-null  float64\n",
      " 5   is_missed_call       53902 non-null  bool   \n",
      " 6   calls_count          53902 non-null  int64  \n",
      " 7   call_duration        53902 non-null  int64  \n",
      " 8   total_call_duration  53902 non-null  int64  \n",
      "dtypes: bool(1), float64(1), int64(4), object(3)\n",
      "memory usage: 3.3+ MB\n",
      "<class 'pandas.core.frame.DataFrame'>\n",
      "RangeIndex: 732 entries, 0 to 731\n",
      "Data columns (total 3 columns):\n",
      " #   Column       Non-Null Count  Dtype \n",
      "---  ------       --------------  ----- \n",
      " 0   user_id      732 non-null    int64 \n",
      " 1   tariff_plan  732 non-null    object\n",
      " 2   date_start   732 non-null    object\n",
      "dtypes: int64(1), object(2)\n",
      "memory usage: 17.3+ KB\n"
     ]
    }
   ],
   "source": [
    "Calls.info()\n",
    "Clients.info()"
   ]
  },
  {
   "cell_type": "markdown",
   "metadata": {},
   "source": [
    "Las columas en el dataframe **Calls** son de cuatro tipos de datos int64, object, float64 y bool. Con respecto de las filas **Calls** contiene 53902 entradas."
   ]
  },
  {
   "cell_type": "markdown",
   "metadata": {},
   "source": [
    "Las columas en el dataframe **Clients** son de dos tipos de datos int64 y object. Con respecto de las filas **Clients** contiene 732 entradas."
   ]
  },
  {
   "cell_type": "markdown",
   "metadata": {},
   "source": [
    "## Convertir columnas a tipo adecuado"
   ]
  },
  {
   "cell_type": "code",
   "execution_count": 5,
   "metadata": {
    "trusted": true
   },
   "outputs": [],
   "source": [
    "Calls['internal'] = Calls['internal'].astype('bool') # convertir a tipo bool\n",
    "Calls['date'] = pd.to_datetime(Calls['date']).dt.tz_localize(None) # convertir a tipo fecha localizada\n",
    "Clients['date_start'] = pd.to_datetime(Clients['date_start']) # convertir a tipo fecha"
   ]
  },
  {
   "cell_type": "markdown",
   "metadata": {},
   "source": [
    "La columna 'internal' en **Calls** tiene unicamente datos True y False, pero es tipo object,  así que lo cambiaremos a tipo 'bool'.\n",
    "La columna 'date' en **Calls** tiene datos de fecha y hora pero es tipo object,  así que lo cambiaremos a tipo 'fecha localizada'.\n",
    "La columna 'date_satrt' en **Clients** tiene datos de fecha y hora pero es tipo object,  así que lo cambiaremos a tipo 'fecha'."
   ]
  },
  {
   "cell_type": "markdown",
   "metadata": {},
   "source": [
    "## Limpieza de datos: eliminar valores NaN"
   ]
  },
  {
   "cell_type": "code",
   "execution_count": 6,
   "metadata": {
    "trusted": true
   },
   "outputs": [
    {
     "data": {
      "text/plain": [
       "'Número de registros después de eliminar NaN: 45730'"
      ]
     },
     "metadata": {},
     "output_type": "display_data"
    },
    {
     "name": "stderr",
     "output_type": "stream",
     "text": [
      "/tmp/ipykernel_371/570363844.py:6: SettingWithCopyWarning: \n",
      "A value is trying to be set on a copy of a slice from a DataFrame.\n",
      "Try using .loc[row_indexer,col_indexer] = value instead\n",
      "\n",
      "See the caveats in the documentation: https://pandas.pydata.org/pandas-docs/stable/user_guide/indexing.html#returning-a-view-versus-a-copy\n",
      "  df_calls_clean[\"waiting_time\"] = df_calls_clean[\"total_call_duration\"] - df_calls_clean[\"call_duration\"]\n"
     ]
    },
    {
     "data": {
      "text/plain": [
       "'Resumen de llamadas perdidas:'"
      ]
     },
     "metadata": {},
     "output_type": "display_data"
    },
    {
     "data": {
      "text/html": [
       "<div>\n",
       "<style scoped>\n",
       "    .dataframe tbody tr th:only-of-type {\n",
       "        vertical-align: middle;\n",
       "    }\n",
       "\n",
       "    .dataframe tbody tr th {\n",
       "        vertical-align: top;\n",
       "    }\n",
       "\n",
       "    .dataframe thead th {\n",
       "        text-align: right;\n",
       "    }\n",
       "</style>\n",
       "<table border=\"1\" class=\"dataframe\">\n",
       "  <thead>\n",
       "    <tr style=\"text-align: right;\">\n",
       "      <th></th>\n",
       "      <th>user_id</th>\n",
       "      <th>operator_id</th>\n",
       "      <th>calls_count</th>\n",
       "      <th>call_duration</th>\n",
       "      <th>total_call_duration</th>\n",
       "      <th>waiting_time</th>\n",
       "    </tr>\n",
       "  </thead>\n",
       "  <tbody>\n",
       "    <tr>\n",
       "      <th>count</th>\n",
       "      <td>15518.000000</td>\n",
       "      <td>15518.000000</td>\n",
       "      <td>15518.000000</td>\n",
       "      <td>15518.000000</td>\n",
       "      <td>15518.000000</td>\n",
       "      <td>15518.000000</td>\n",
       "    </tr>\n",
       "    <tr>\n",
       "      <th>mean</th>\n",
       "      <td>167315.162843</td>\n",
       "      <td>916720.792241</td>\n",
       "      <td>19.308996</td>\n",
       "      <td>1.644800</td>\n",
       "      <td>449.359196</td>\n",
       "      <td>447.714396</td>\n",
       "    </tr>\n",
       "    <tr>\n",
       "      <th>std</th>\n",
       "      <td>618.660252</td>\n",
       "      <td>21947.334785</td>\n",
       "      <td>74.293160</td>\n",
       "      <td>21.599673</td>\n",
       "      <td>1553.567629</td>\n",
       "      <td>1553.867774</td>\n",
       "    </tr>\n",
       "    <tr>\n",
       "      <th>min</th>\n",
       "      <td>166377.000000</td>\n",
       "      <td>879896.000000</td>\n",
       "      <td>1.000000</td>\n",
       "      <td>0.000000</td>\n",
       "      <td>0.000000</td>\n",
       "      <td>0.000000</td>\n",
       "    </tr>\n",
       "    <tr>\n",
       "      <th>25%</th>\n",
       "      <td>166782.000000</td>\n",
       "      <td>900352.000000</td>\n",
       "      <td>1.000000</td>\n",
       "      <td>0.000000</td>\n",
       "      <td>19.250000</td>\n",
       "      <td>18.000000</td>\n",
       "    </tr>\n",
       "    <tr>\n",
       "      <th>50%</th>\n",
       "      <td>167175.000000</td>\n",
       "      <td>914433.000000</td>\n",
       "      <td>4.000000</td>\n",
       "      <td>0.000000</td>\n",
       "      <td>84.000000</td>\n",
       "      <td>80.000000</td>\n",
       "    </tr>\n",
       "    <tr>\n",
       "      <th>75%</th>\n",
       "      <td>167888.000000</td>\n",
       "      <td>937788.000000</td>\n",
       "      <td>14.000000</td>\n",
       "      <td>0.000000</td>\n",
       "      <td>331.000000</td>\n",
       "      <td>329.000000</td>\n",
       "    </tr>\n",
       "    <tr>\n",
       "      <th>max</th>\n",
       "      <td>168606.000000</td>\n",
       "      <td>973120.000000</td>\n",
       "      <td>4817.000000</td>\n",
       "      <td>741.000000</td>\n",
       "      <td>45312.000000</td>\n",
       "      <td>45312.000000</td>\n",
       "    </tr>\n",
       "  </tbody>\n",
       "</table>\n",
       "</div>"
      ],
      "text/plain": [
       "             user_id    operator_id   calls_count  call_duration  \\\n",
       "count   15518.000000   15518.000000  15518.000000   15518.000000   \n",
       "mean   167315.162843  916720.792241     19.308996       1.644800   \n",
       "std       618.660252   21947.334785     74.293160      21.599673   \n",
       "min    166377.000000  879896.000000      1.000000       0.000000   \n",
       "25%    166782.000000  900352.000000      1.000000       0.000000   \n",
       "50%    167175.000000  914433.000000      4.000000       0.000000   \n",
       "75%    167888.000000  937788.000000     14.000000       0.000000   \n",
       "max    168606.000000  973120.000000   4817.000000     741.000000   \n",
       "\n",
       "       total_call_duration  waiting_time  \n",
       "count         15518.000000  15518.000000  \n",
       "mean            449.359196    447.714396  \n",
       "std            1553.567629   1553.867774  \n",
       "min               0.000000      0.000000  \n",
       "25%              19.250000     18.000000  \n",
       "50%              84.000000     80.000000  \n",
       "75%             331.000000    329.000000  \n",
       "max           45312.000000  45312.000000  "
      ]
     },
     "metadata": {},
     "output_type": "display_data"
    }
   ],
   "source": [
    "# Eliminar registros con valores NaN en el dataset de llamadas\n",
    "df_calls_clean = Calls.dropna()\n",
    "display(f\"Número de registros después de eliminar NaN: {df_calls_clean.shape[0]}\")\n",
    "\n",
    "# Calcular tiempo de espera como diferencia entre total_call_duration y call_duration\n",
    "df_calls_clean[\"waiting_time\"] = df_calls_clean[\"total_call_duration\"] - df_calls_clean[\"call_duration\"]\n",
    "\n",
    "# Realizar un resumen de las llamadas perdidas\n",
    "missed_calls = df_calls_clean[df_calls_clean[\"is_missed_call\"] == True]\n",
    "display(f'Resumen de llamadas perdidas:')\n",
    "display(missed_calls.describe())"
   ]
  },
  {
   "cell_type": "markdown",
   "metadata": {},
   "source": [
    "Eliminar del DataFrame **Calls** los registros NaN. \n",
    "\n",
    "Verificar del DataFrame **Calls** las llamadas perdidas con la columna is_missed_call."
   ]
  },
  {
   "cell_type": "code",
   "execution_count": 7,
   "metadata": {
    "trusted": true
   },
   "outputs": [
    {
     "data": {
      "text/plain": [
       "'Número de registros después de limpieza: 40668'"
      ]
     },
     "metadata": {},
     "output_type": "display_data"
    }
   ],
   "source": [
    "# Eliminar registros anómalos\n",
    "# 1. Llamadas realizadas por operadores que los clientes contestan pero duran nada:\n",
    "#    => Si la llamada no es marcada como perdida pero call_duration == 0, se considera errónea.\n",
    "df_calls_clean = df_calls_clean[~((df_calls_clean[\"is_missed_call\"] == False) & (df_calls_clean[\"call_duration\"] == 0))]\n",
    "\n",
    "# 2. Eliminar llamadas con total_call_duration == 0 (ningún tiempo de llamada, se asume que no fue contestada)\n",
    "df_calls_clean = df_calls_clean[df_calls_clean[\"total_call_duration\"] > 0]\n",
    "\n",
    "# 3. Eliminar duplicados en llamadas no perdidas\n",
    "df_calls_clean = df_calls_clean.drop_duplicates(subset=[ \"user_id\", \"date\", \"direction\", \"internal\", \"operator_id\", \"calls_count\", \"call_duration\", \"total_call_duration\"])\n",
    "\n",
    "display(f\"Número de registros después de limpieza: {df_calls_clean.shape[0]}\")"
   ]
  },
  {
   "cell_type": "markdown",
   "metadata": {},
   "source": [
    "Se eliminaron registros con duración de llamada igual a 0 en situaciones anómalas. Se consideran “anómalas” aquellas llamadas que: Son realizadas por operadores y contestadas por clientes (o viceversa) pero tienen una duración de llamada (call_duration) igual a 0.\n",
    "\n",
    "Se registran llamadas en las que ni el operador ni el cliente contestaron (por ejemplo, si además de ser llamada perdida se tienen tiempos de llamada no esperados).\n",
    "\n",
    "Después de la limpieza quedan 40668 datos."
   ]
  },
  {
   "cell_type": "markdown",
   "metadata": {},
   "source": [
    "## Análisis exploratorio de datos (EDA):"
   ]
  },
  {
   "cell_type": "code",
   "execution_count": 8,
   "metadata": {
    "trusted": true
   },
   "outputs": [
    {
     "data": {
      "image/png": "[encoded data removed]",
      "text/plain": [
       "<Figure size 1000x600 with 1 Axes>"
      ]
     },
     "metadata": {},
     "output_type": "display_data"
    }
   ],
   "source": [
    "# Histograma del tiempo de espera total en llamadas entrantes\n",
    "plt.figure(figsize=(10,6))\n",
    "sns.histplot(df_calls_clean[df_calls_clean[\"direction\"] == \"in\"][\"total_call_duration\"] - \n",
    "             df_calls_clean[df_calls_clean[\"direction\"] == \"in\"][\"call_duration\"],\n",
    "             bins=50, kde=True)\n",
    "plt.title(\"Distribución del tiempo de espera en llamadas entrantes\")\n",
    "plt.xlabel(\"Tiempo de espera (segundos)\")\n",
    "plt.ylabel(\"Frecuencia\")\n",
    "plt.show()"
   ]
  },
  {
   "cell_type": "markdown",
   "metadata": {},
   "source": [
    "En el gráfico anterior presenta la distribución sesgada a la derecha por lo tanto la mayoría de las llamadas tienen tiempos de espera cortos, concentrándose principalmente en el rango de 0 a 100 segundos, con un pico alrededor de 10 segundos."
   ]
  },
  {
   "cell_type": "code",
   "execution_count": 9,
   "metadata": {
    "trusted": true
   },
   "outputs": [
    {
     "data": {
      "image/png": "[encoded data removed]",
      "text/plain": [
       "<Figure size 1000x600 with 1 Axes>"
      ]
     },
     "metadata": {},
     "output_type": "display_data"
    }
   ],
   "source": [
    "# Histograma de la duración de llamadas \n",
    "plt.figure(figsize=(10,6))\n",
    "sns.histplot(df_calls_clean[\"call_duration\"], bins=50, kde=True)\n",
    "plt.title(\"Distribución de la duración de llamadas\")\n",
    "plt.xlabel(\"Duración de llamada (segundos)\")\n",
    "plt.ylabel(\"Frecuencia\")\n",
    "plt.show()"
   ]
  },
  {
   "cell_type": "markdown",
   "metadata": {},
   "source": [
    "En el gráfico siguiente se observa que la mayoría de las llamadas duran poco tiempo (pico pronunciado al inicio). Hay una larga cola a la derecha, lo que indica que existen algunas llamadas muy largas (valores atípicos).\n",
    "\n",
    "La distribución es sesgada positivamente, lo que es común en este tipo de datos."
   ]
  },
  {
   "cell_type": "code",
   "execution_count": 10,
   "metadata": {
    "trusted": true
   },
   "outputs": [
    {
     "data": {
      "image/png": "[encoded data removed]",
      "text/plain": [
       "<Figure size 1000x600 with 1 Axes>"
      ]
     },
     "metadata": {},
     "output_type": "display_data"
    }
   ],
   "source": [
    "# Boxplot del tiempo de espera por tipo de llamada (interna, externa)\n",
    "plt.figure(figsize=(10,6))\n",
    "df_calls_clean[\"waiting_time\"] = df_calls_clean[\"total_call_duration\"] - df_calls_clean[\"call_duration\"]\n",
    "sns.boxplot(x=\"internal\", y=\"waiting_time\", data=df_calls_clean[df_calls_clean[\"direction\"] == \"in\"])\n",
    "plt.title(\"Tiempo de espera por tipo de llamada (interna vs externa)\")\n",
    "plt.xlabel(\"¿Llamada interna?\")\n",
    "plt.ylabel(\"Tiempo de espera (segundos)\")\n",
    "plt.show()"
   ]
  },
  {
   "cell_type": "markdown",
   "metadata": {},
   "source": [
    "El gráfico muestra el tiempo de espera en segundos para dos tipos de llamadas: internas (True) y externas (False). Para las llamadas externas (False), presentan tiempos de espera significativamente más altos en comparación con las internas. Se observa una mayor dispersión en los datos, con valores atípicos que alcanzan tiempos elevados.\n",
    "\n",
    "Llamadas internas (True): Muestran tiempos de espera mucho más bajos y una distribución más uniforme, lo que sugiere una gestión más eficiente de estas comunicaciones."
   ]
  },
  {
   "cell_type": "code",
   "execution_count": 11,
   "metadata": {
    "trusted": true
   },
   "outputs": [
    {
     "data": {
      "image/png": "[encoded data removed]",
      "text/plain": [
       "<Figure size 800x500 with 1 Axes>"
      ]
     },
     "metadata": {},
     "output_type": "display_data"
    }
   ],
   "source": [
    "# Conteo de llamadas por dirección\n",
    "plt.figure(figsize=(8,5))\n",
    "sns.countplot(x=\"direction\", data=df_calls_clean)\n",
    "plt.title(\"Distribución de llamadas por dirección\")\n",
    "plt.xlabel(\"Dirección de llamada\")\n",
    "plt.ylabel(\"Cantidad de llamadas\")\n",
    "plt.show()"
   ]
  },
  {
   "cell_type": "markdown",
   "metadata": {},
   "source": [
    "En el gráfico anterior se observa que se realizaron muchas más llamadas salientes que entrantes. Esto puede indicar que el sistema o los agentes hacen un mayor esfuerzo proactivo."
   ]
  },
  {
   "cell_type": "code",
   "execution_count": 12,
   "metadata": {
    "trusted": true
   },
   "outputs": [
    {
     "data": {
      "image/png": "[encoded data removed]",
      "text/plain": [
       "<Figure size 600x600 with 1 Axes>"
      ]
     },
     "metadata": {},
     "output_type": "display_data"
    }
   ],
   "source": [
    "# Boxplot del número de llamadas por registro\n",
    "plt.figure(figsize=(6,6))\n",
    "sns.boxplot(y=df_calls_clean[\"calls_count\"])\n",
    "plt.title(\"Distribución del número de llamadas por registro\")\n",
    "plt.ylabel(\"Número de llamadas\")\n",
    "plt.show()"
   ]
  },
  {
   "cell_type": "markdown",
   "metadata": {},
   "source": [
    "El gráfico de caja indica que la mayoría de los valores están concentrados en la parte inferior del gráfico, con un rango intercuartílico bastante estrecho, lo que indica que la mayoría de los registros tienen un número de llamadas relativamente bajo."
   ]
  },
  {
   "cell_type": "code",
   "execution_count": 13,
   "metadata": {
    "trusted": true
   },
   "outputs": [
    {
     "data": {
      "image/png": "[encoded data removed]",
      "text/plain": [
       "<Figure size 1000x600 with 1 Axes>"
      ]
     },
     "metadata": {},
     "output_type": "display_data"
    }
   ],
   "source": [
    "# Distribución de llamadas perdidas vs. atendidas\n",
    "plt.figure(figsize=(10,6))\n",
    "sns.set_style(\"whitegrid\")\n",
    "sns.countplot(x=\"is_missed_call\", data=df_calls_clean)\n",
    "plt.title(\"Distribución de llamadas atendidas vs. perdidas\")\n",
    "plt.xlabel(\"Llamada perdida (True) / Atendida (False)\")\n",
    "plt.ylabel(\"Conteo\")\n",
    "plt.show()"
   ]
  },
  {
   "cell_type": "markdown",
   "metadata": {},
   "source": [
    "Se observa que existen mas llamadas que estan siendo atendidas (False), pero el número de llamadas perdidas (True) aún es considerable.\n",
    "\n",
    "Aunque es positivo que la mayoría de las llamadas se atiendan, la proporción de llamadas perdidas no es despreciable. Esto puede indicar cuellos de botella en determinados horarios, operadores sobrecargados o tiempos de espera prolongados que llevan a que el cliente abandone la llamada."
   ]
  },
  {
   "cell_type": "code",
   "execution_count": 14,
   "metadata": {
    "trusted": true
   },
   "outputs": [
    {
     "data": {
      "image/png": "[encoded data removed]",
      "text/plain": [
       "<Figure size 1000x600 with 1 Axes>"
      ]
     },
     "metadata": {},
     "output_type": "display_data"
    }
   ],
   "source": [
    "# Histograma de tiempos de espera en llamadas entrantes (direction = 'in')\n",
    "df_incoming = df_calls_clean[df_calls_clean[\"direction\"] == \"in\"]\n",
    "plt.figure(figsize=(10,6))\n",
    "sns.set_style(\"whitegrid\")\n",
    "sns.histplot(df_incoming[\"waiting_time\"], bins=30, kde=True)\n",
    "plt.title(\"Distribución de tiempo de espera en llamadas entrantes\")\n",
    "plt.xlabel(\"Tiempo de espera (segundos)\")\n",
    "plt.show()"
   ]
  },
  {
   "cell_type": "markdown",
   "metadata": {},
   "source": [
    "La gráfica muestra un comportamiento muy sesgado: la mayoría de las llamadas tienen un tiempo de espera relativamente bajo, se concentran cerca de 0 a 100 segundos.\n",
    "La mayoría de las llamadas se atienden con un tiempo de espera aceptable, pero existe un conjunto de llamadas con esperas excesivamente largas.\n",
    "La cola larga se puede deber a casos anómalos."
   ]
  },
  {
   "cell_type": "markdown",
   "metadata": {},
   "source": [
    "## Identificación de operadores ineficaces\n",
    "\n",
    "Para cada operador se calcula:\n",
    "\n",
    "    - Número total de llamadas entrantes (in)\n",
    "    - Número total de llamadas perdidas (in)\n",
    "    - Tiempo de espera promedio en llamadas entrantes\n",
    "    - Número de llamadas salientes (out) (si corresponde)\n",
    "\n",
    "Esto se reliza para poder tener las metricas necesarias para evaluar el rendimiento de cada operador"
   ]
  },
  {
   "cell_type": "code",
   "execution_count": 15,
   "metadata": {
    "trusted": true
   },
   "outputs": [
    {
     "data": {
      "text/plain": [
       "'Métricas agregadas por operador:'"
      ]
     },
     "metadata": {},
     "output_type": "display_data"
    },
    {
     "data": {
      "text/html": [
       "<div>\n",
       "<style scoped>\n",
       "    .dataframe tbody tr th:only-of-type {\n",
       "        vertical-align: middle;\n",
       "    }\n",
       "\n",
       "    .dataframe tbody tr th {\n",
       "        vertical-align: top;\n",
       "    }\n",
       "\n",
       "    .dataframe thead th {\n",
       "        text-align: right;\n",
       "    }\n",
       "</style>\n",
       "<table border=\"1\" class=\"dataframe\">\n",
       "  <thead>\n",
       "    <tr style=\"text-align: right;\">\n",
       "      <th></th>\n",
       "      <th>total_incoming_calls</th>\n",
       "      <th>total_missed_calls</th>\n",
       "      <th>avg_waiting_time</th>\n",
       "      <th>total_outgoing_calls</th>\n",
       "      <th>missed_rate</th>\n",
       "    </tr>\n",
       "    <tr>\n",
       "      <th>operator_id</th>\n",
       "      <th></th>\n",
       "      <th></th>\n",
       "      <th></th>\n",
       "      <th></th>\n",
       "      <th></th>\n",
       "    </tr>\n",
       "  </thead>\n",
       "  <tbody>\n",
       "    <tr>\n",
       "      <th>879896.0</th>\n",
       "      <td>58.0</td>\n",
       "      <td>0.0</td>\n",
       "      <td>27.333333</td>\n",
       "      <td>870.0</td>\n",
       "      <td>0.0</td>\n",
       "    </tr>\n",
       "    <tr>\n",
       "      <th>879898.0</th>\n",
       "      <td>104.0</td>\n",
       "      <td>0.0</td>\n",
       "      <td>29.473684</td>\n",
       "      <td>7207.0</td>\n",
       "      <td>0.0</td>\n",
       "    </tr>\n",
       "    <tr>\n",
       "      <th>880020.0</th>\n",
       "      <td>7.0</td>\n",
       "      <td>0.0</td>\n",
       "      <td>7.714286</td>\n",
       "      <td>36.0</td>\n",
       "      <td>0.0</td>\n",
       "    </tr>\n",
       "    <tr>\n",
       "      <th>880022.0</th>\n",
       "      <td>8.0</td>\n",
       "      <td>0.0</td>\n",
       "      <td>14.000000</td>\n",
       "      <td>179.0</td>\n",
       "      <td>0.0</td>\n",
       "    </tr>\n",
       "    <tr>\n",
       "      <th>880026.0</th>\n",
       "      <td>24.0</td>\n",
       "      <td>0.0</td>\n",
       "      <td>7.944444</td>\n",
       "      <td>2194.0</td>\n",
       "      <td>0.0</td>\n",
       "    </tr>\n",
       "  </tbody>\n",
       "</table>\n",
       "</div>"
      ],
      "text/plain": [
       "             total_incoming_calls  total_missed_calls  avg_waiting_time  \\\n",
       "operator_id                                                               \n",
       "879896.0                     58.0                 0.0         27.333333   \n",
       "879898.0                    104.0                 0.0         29.473684   \n",
       "880020.0                      7.0                 0.0          7.714286   \n",
       "880022.0                      8.0                 0.0         14.000000   \n",
       "880026.0                     24.0                 0.0          7.944444   \n",
       "\n",
       "             total_outgoing_calls  missed_rate  \n",
       "operator_id                                     \n",
       "879896.0                    870.0          0.0  \n",
       "879898.0                   7207.0          0.0  \n",
       "880020.0                     36.0          0.0  \n",
       "880022.0                    179.0          0.0  \n",
       "880026.0                   2194.0          0.0  "
      ]
     },
     "metadata": {},
     "output_type": "display_data"
    }
   ],
   "source": [
    "# Agregamos métricas para llamadas entrantes\n",
    "incoming_metrics = df_calls_clean[df_calls_clean[\"direction\"] == \"in\"].groupby(\"operator_id\").agg({\n",
    "    \"calls_count\": \"sum\",\n",
    "    \"is_missed_call\": lambda x: np.sum(x == True),\n",
    "    \"waiting_time\": \"mean\"\n",
    "}).rename(columns={\"calls_count\": \"total_incoming_calls\", \"is_missed_call\": \"total_missed_calls\", \"waiting_time\": \"avg_waiting_time\"})\n",
    "\n",
    "# Métricas para llamadas salientes \n",
    "outgoing_metrics = df_calls_clean[df_calls_clean[\"direction\"] == \"out\"].groupby(\"operator_id\").agg({\n",
    "    \"calls_count\": \"sum\"\n",
    "}).rename(columns={\"calls_count\": \"total_outgoing_calls\"})\n",
    "\n",
    "# Unir ambas métricas\n",
    "metrics = incoming_metrics.join(outgoing_metrics, how=\"outer\").fillna(0)\n",
    "metrics[\"missed_rate\"] = metrics[\"total_missed_calls\"] / metrics[\"total_incoming_calls\"]\n",
    "display(\"Métricas agregadas por operador:\")\n",
    "display(metrics.head())"
   ]
  },
  {
   "cell_type": "markdown",
   "metadata": {},
   "source": [
    "Como se observa todos los operadores están atendiendo las llamadas entrantes, ya que no hay llamadas perdidas. Esto indica que, al menos en el periodo analizado, todos los operadores atendieron todas las llamadas entrantes sin dejar ninguna sin contestar.\n",
    "\n",
    "Aunque no hay llamadas perdidas, el tiempo de espera varía entre los operadores, lo cual se evidencia la variabilidad en el tiempo de espera, lo que podría afectar la experiencia del cliente y señalar áreas para mejorar la eficiencia operativa. "
   ]
  },
  {
   "cell_type": "markdown",
   "metadata": {},
   "source": [
    "## Definir umbrales para identificar operadores ineficaces\n",
    "\n",
    "Se utilizan los percentiles 75 (Q3) como umbrales porque permiten identificar a los operadores que están en el cuartil superior, es decir, los que tienen::\n",
    "  - Las tasas de llamadas perdidas más altas (peor desempeño) \n",
    "  - Los tiempos de espera promedio más largos (mayor ineficiencia) \n",
    "\n",
    "Se utiliza para los operadores que están en el 25% con menos llamadas salientes, es decir, los menos activos o menos productivos en esa dimensión.\n",
    "  - Si realizan llamadas salientes: cantidad inferior al percentil 25"
   ]
  },
  {
   "cell_type": "code",
   "execution_count": 16,
   "metadata": {
    "trusted": true
   },
   "outputs": [
    {
     "name": "stdout",
     "output_type": "stream",
     "text": [
      "\n",
      "Umbral tasa de perdidas (75th): 0.01\n",
      "Umbral tiempo de espera (75th): 43.00 segundos\n",
      "Umbral llamadas salientes (25th): 1.0\n",
      "\n",
      "Operadores ineficaces identificados:\n",
      "             total_incoming_calls  total_missed_calls  avg_waiting_time  \\\n",
      "operator_id                                                               \n",
      "913886.0                      2.0                 1.0             13.50   \n",
      "934098.0                      6.0                 2.0             31.80   \n",
      "910226.0                      8.0                 2.0             16.50   \n",
      "930242.0                      4.0                 1.0             17.25   \n",
      "919896.0                      5.0                 1.0             17.50   \n",
      "\n",
      "             total_outgoing_calls  missed_rate  ineficaz  \n",
      "operator_id                                               \n",
      "913886.0                      0.0     0.500000      True  \n",
      "934098.0                      0.0     0.333333      True  \n",
      "910226.0                      0.0     0.250000      True  \n",
      "930242.0                      0.0     0.250000      True  \n",
      "919896.0                      0.0     0.200000      True  \n"
     ]
    }
   ],
   "source": [
    "umbral_missed = metrics[\"missed_rate\"].quantile(0.75)\n",
    "umbral_wait = metrics[\"avg_waiting_time\"].quantile(0.75)\n",
    "umbral_outgoing = metrics[\"total_outgoing_calls\"].quantile(0.25)\n",
    "\n",
    "print(f\"\\nUmbral tasa de perdidas (75th): {umbral_missed:.2f}\")\n",
    "print(f\"Umbral tiempo de espera (75th): {umbral_wait:.2f} segundos\")\n",
    "print(f\"Umbral llamadas salientes (25th): {umbral_outgoing}\")\n",
    "\n",
    "# Marcar operadores ineficaces según criterios\n",
    "def es_ineficaz(row):\n",
    "    # Condición 1: alta tasa de llamadas perdidas y alto tiempo de espera en llamadas entrantes\n",
    "    cond1 = (row[\"missed_rate\"] > umbral_missed) and (row[\"avg_waiting_time\"] > umbral_wait)\n",
    "    # Condición 2: si se espera que realice llamadas salientes, pero tiene pocas\n",
    "    cond2 = (row[\"total_outgoing_calls\"] < umbral_outgoing) if row[\"total_outgoing_calls\"] > 0 or metrics[\"total_outgoing_calls\"].sum() > 0 else False\n",
    "    return cond1 or cond2\n",
    "\n",
    "metrics[\"ineficaz\"] = metrics.apply(es_ineficaz, axis=1)\n",
    "print(\"\\nOperadores ineficaces identificados:\")\n",
    "print(metrics[metrics[\"ineficaz\"]].sort_values(\"missed_rate\", ascending=False).head())"
   ]
  },
  {
   "cell_type": "markdown",
   "metadata": {},
   "source": [
    "De manera general estos resultados sugieren que, aunque el tiempo de espera de estos operadores no sea excesivamente alto, la combinación de una alta proporción de llamadas perdidas, y la falta total de actividad en llamadas salientes los clasifica como operadores ineficaces. Esto puede indicar problemas en la asignación de tareas o en la capacitación para manejar llamadas de forma proactiva, lo cual es crítico en un entorno donde se espera una alta eficiencia en la atención y salida de llamadas."
   ]
  },
  {
   "cell_type": "markdown",
   "metadata": {},
   "source": [
    "## Prueba de hipótesis estadística\n",
    "\n",
    "Hipótesis:\n",
    "   H0: No existe diferencia en el tiempo de espera promedio entre operadores eficaces e ineficaces.\n",
    "   H1: Los operadores ineficaces tienen un tiempo de espera promedio mayor que los eficaces."
   ]
  },
  {
   "cell_type": "code",
   "execution_count": 17,
   "metadata": {
    "trusted": true
   },
   "outputs": [
    {
     "name": "stdout",
     "output_type": "stream",
     "text": [
      "T-test: t-statistic = 4.281, p-value = 0.000\n",
      "Se rechaza H0: hay evidencia significativa de que los operadores ineficaces tienen tiempos de espera mayores.\n"
     ]
    }
   ],
   "source": [
    "# Crear dos grupos\n",
    "ineficaces = metrics[metrics[\"ineficaz\"]][\"avg_waiting_time\"]\n",
    "eficaces = metrics[~metrics[\"ineficaz\"]][\"avg_waiting_time\"]\n",
    "\n",
    "# Realizar el t-test de una cola (ya que H1 indica que los ineficaces tienen mayor tiempo de espera)\n",
    "t_stat, p_value = stats.ttest_ind(ineficaces, eficaces, alternative=\"greater\")\n",
    "print(f\"T-test: t-statistic = {t_stat:.3f}, p-value = {p_value:.3f}\")\n",
    "\n",
    "if p_value < 0.05:\n",
    "    print(\"Se rechaza H0: hay evidencia significativa de que los operadores ineficaces tienen tiempos de espera mayores.\")\n",
    "else:\n",
    "    print(\"No se rechaza H0: no se observa diferencia significativa en el tiempo de espera.\")"
   ]
  },
  {
   "cell_type": "markdown",
   "metadata": {},
   "source": [
    "Se rechaza la hipótesis nula (H0) y se acepta la hipótesis alternativa (H1), lo que significa que existe evidencia estadísticamente significativa de que los operadores ineficaces tienen un tiempo de espera promedio mayor que los operadores eficaces. Esto respalda la idea de que el tiempo de espera es un buen indicador para diferenciar entre operadores con buen y mal desempeño."
   ]
  },
  {
   "cell_type": "markdown",
   "metadata": {},
   "source": [
    "## Conclusiones generales\n",
    "\n",
    "Identificación de ineficacia:\n",
    "Se encontró que los operadores con una tasa elevada de llamadas perdidas y tiempos de espera prolongados en las llamadas entrantes son, en general, los más ineficaces. Además, para aquellos operadores que también deben realizar llamadas salientes, un volumen significativamente bajo en estas llamadas indica problemas en su desempeño.\n",
    "\n",
    "Impacto en la calidad del servicio:\n",
    "Los altos tiempos de espera y la elevada tasa de llamadas perdidas pueden generar una experiencia de usuario negativa, afectando la satisfacción de los clientes y, en consecuencia, la reputación del servicio de telefonía virtual.\n",
    "\n",
    "Soporte estadístico:\n",
    "La prueba de hipótesis (por ejemplo, el t-test) respalda la idea de que los operadores ineficaces presentan tiempos de espera significativamente mayores, lo cual refuerza la validez de la clasificación basada en las métricas analizadas.\n",
    "\n",
    "Otros aspectos:\n",
    "Todos los operadores han atendido el 100% de las llamadas entrantes.\n",
    "No hay ninguna llamada perdida, por lo tanto, la tasa de pérdida es 0, lo cual es ideal.\n",
    "Aunque hay diferencias (7 a 29 seg) en el tiempo de espera, ninguno supera umbrales críticos."
   ]
  },
  {
   "cell_type": "markdown",
   "metadata": {},
   "source": [
    "## Mejoras\n",
    "\n",
    "Revisión y entrenamiento:\n",
    "Se sugiere revisar el protocolo de manejo de llamadas y mejorar el entrenamiento de los operadores para optimizar su respuesta y reducir la tasa de llamadas perdidas.\n",
    "\n",
    "Optimización de la distribución de llamadas:\n",
    "Ajustar la distribución de llamadas entrantes para evitar sobrecargar a ciertos operadores, lo que podría contribuir a reducir los tiempos de espera y mejorar la eficiencia general.\n",
    "\n",
    "Alertas tempranas:\n",
    "Implementar un sistema de alertas que notifique de forma inmediata cuando se superen umbrales críticos en términos de tiempos de espera o tasas de llamadas perdidas. Esto permitiría intervenir antes de que la ineficacia se traduzca en una mala experiencia para los clientes.\n",
    "\n",
    "Segmentación adicional:\n",
    "Profundizar en el análisis segmentando por tipos de cliente o tarifas, ya que podría haber patrones o necesidades específicas que varíen según el segmento, lo cual ayudaría a personalizar las estrategias de mejora.\n",
    "\n",
    "Reevaluación de umbrales:\n",
    "Considerar la posibilidad de ajustar los umbrales utilizados (percentiles 75 para perdidas y tiempos, 25 para llamadas salientes) según el comportamiento observado en los datos reales, lo que permitirá una identificación más precisa de los operadores ineficaces."
   ]
  }
 ],
 "metadata": {
  "ExecuteTimeLog": [
   {
    "duration": 2588,
    "start_time": "2025-04-30T18:45:00.334Z"
   },
   {
    "duration": 587,
    "start_time": "2025-04-30T18:45:02.925Z"
   },
   {
    "duration": 0,
    "start_time": "2025-04-30T18:45:03.514Z"
   },
   {
    "duration": 0,
    "start_time": "2025-04-30T18:45:03.515Z"
   },
   {
    "duration": 0,
    "start_time": "2025-04-30T18:45:03.516Z"
   },
   {
    "duration": 0,
    "start_time": "2025-04-30T18:45:03.517Z"
   },
   {
    "duration": 0,
    "start_time": "2025-04-30T18:45:03.518Z"
   },
   {
    "duration": 0,
    "start_time": "2025-04-30T18:45:03.519Z"
   },
   {
    "duration": 0,
    "start_time": "2025-04-30T18:45:03.521Z"
   },
   {
    "duration": 0,
    "start_time": "2025-04-30T18:45:03.522Z"
   },
   {
    "duration": 0,
    "start_time": "2025-04-30T18:45:03.522Z"
   },
   {
    "duration": 0,
    "start_time": "2025-04-30T18:45:03.523Z"
   },
   {
    "duration": 0,
    "start_time": "2025-04-30T18:45:03.524Z"
   },
   {
    "duration": 70,
    "start_time": "2025-04-30T18:47:55.070Z"
   },
   {
    "duration": 840,
    "start_time": "2025-04-30T18:48:08.061Z"
   },
   {
    "duration": 46,
    "start_time": "2025-04-30T18:48:08.903Z"
   },
   {
    "duration": 18,
    "start_time": "2025-04-30T18:48:08.951Z"
   },
   {
    "duration": 19,
    "start_time": "2025-04-30T18:48:08.972Z"
   },
   {
    "duration": 29,
    "start_time": "2025-04-30T18:48:08.994Z"
   },
   {
    "duration": 31,
    "start_time": "2025-04-30T18:48:09.025Z"
   },
   {
    "duration": 18,
    "start_time": "2025-04-30T18:48:09.058Z"
   },
   {
    "duration": 144,
    "start_time": "2025-04-30T18:48:09.077Z"
   },
   {
    "duration": 396,
    "start_time": "2025-04-30T18:48:09.223Z"
   },
   {
    "duration": 246,
    "start_time": "2025-04-30T18:48:09.621Z"
   },
   {
    "duration": 149,
    "start_time": "2025-04-30T18:48:09.869Z"
   },
   {
    "duration": 40,
    "start_time": "2025-04-30T18:48:10.020Z"
   },
   {
    "duration": 6,
    "start_time": "2025-04-30T18:48:10.061Z"
   },
   {
    "duration": 2756,
    "start_time": "2025-05-05T17:41:13.107Z"
   },
   {
    "duration": 327,
    "start_time": "2025-05-05T17:41:15.866Z"
   },
   {
    "duration": 19,
    "start_time": "2025-05-05T17:41:16.196Z"
   },
   {
    "duration": 18,
    "start_time": "2025-05-05T17:41:16.217Z"
   },
   {
    "duration": 20,
    "start_time": "2025-05-05T17:41:16.238Z"
   },
   {
    "duration": 54,
    "start_time": "2025-05-05T17:41:16.260Z"
   },
   {
    "duration": 18,
    "start_time": "2025-05-05T17:41:16.316Z"
   },
   {
    "duration": 380,
    "start_time": "2025-05-05T17:41:16.336Z"
   },
   {
    "duration": 482,
    "start_time": "2025-05-05T17:41:16.718Z"
   },
   {
    "duration": 202,
    "start_time": "2025-05-05T17:41:17.203Z"
   },
   {
    "duration": 136,
    "start_time": "2025-05-05T17:41:17.409Z"
   },
   {
    "duration": 104,
    "start_time": "2025-05-05T17:41:17.547Z"
   },
   {
    "duration": 142,
    "start_time": "2025-05-05T17:41:17.652Z"
   },
   {
    "duration": 426,
    "start_time": "2025-05-05T17:41:17.798Z"
   },
   {
    "duration": 216,
    "start_time": "2025-05-05T17:41:18.227Z"
   },
   {
    "duration": 175,
    "start_time": "2025-05-05T17:41:18.445Z"
   },
   {
    "duration": 38,
    "start_time": "2025-05-05T17:41:18.626Z"
   },
   {
    "duration": 6,
    "start_time": "2025-05-05T17:41:18.666Z"
   },
   {
    "duration": 839,
    "start_time": "2025-05-08T01:49:58.016Z"
   },
   {
    "duration": 60,
    "start_time": "2025-05-08T01:49:58.856Z"
   },
   {
    "duration": 24,
    "start_time": "2025-05-08T01:49:58.917Z"
   },
   {
    "duration": 22,
    "start_time": "2025-05-08T01:49:58.943Z"
   },
   {
    "duration": 17,
    "start_time": "2025-05-08T01:49:58.967Z"
   },
   {
    "duration": 54,
    "start_time": "2025-05-08T01:49:58.986Z"
   },
   {
    "duration": 19,
    "start_time": "2025-05-08T01:49:59.042Z"
   },
   {
    "duration": 418,
    "start_time": "2025-05-08T01:49:59.063Z"
   },
   {
    "duration": 515,
    "start_time": "2025-05-08T01:49:59.482Z"
   },
   {
    "duration": 199,
    "start_time": "2025-05-08T01:50:00.000Z"
   },
   {
    "duration": 110,
    "start_time": "2025-05-08T01:50:00.201Z"
   },
   {
    "duration": 103,
    "start_time": "2025-05-08T01:50:00.313Z"
   },
   {
    "duration": 133,
    "start_time": "2025-05-08T01:50:00.418Z"
   },
   {
    "duration": 375,
    "start_time": "2025-05-08T01:50:00.553Z"
   },
   {
    "duration": 141,
    "start_time": "2025-05-08T01:50:00.931Z"
   },
   {
    "duration": 44,
    "start_time": "2025-05-08T01:50:01.074Z"
   },
   {
    "duration": 6,
    "start_time": "2025-05-08T01:50:01.120Z"
   }
  ],
  "kernelspec": {
   "display_name": "Python 3 (ipykernel)",
   "language": "python",
   "name": "python3"
  },
  "language_info": {
   "codemirror_mode": {
    "name": "ipython",
    "version": 3
   },
   "file_extension": ".py",
   "mimetype": "text/x-python",
   "name": "python",
   "nbconvert_exporter": "python",
   "pygments_lexer": "ipython3",
   "version": "3.9.19"
  },
  "toc": {
   "base_numbering": 1,
   "nav_menu": {},
   "number_sections": true,
   "sideBar": true,
   "skip_h1_title": true,
   "title_cell": "Table of Contents",
   "title_sidebar": "Contents",
   "toc_cell": false,
   "toc_position": {},
   "toc_section_display": true,
   "toc_window_display": true
  }
 },
 "nbformat": 4,
 "nbformat_minor": 2
}
